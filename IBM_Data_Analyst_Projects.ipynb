{
 "cells": [
  {
   "cell_type": "markdown",
   "id": "77ec47a7",
   "metadata": {},
   "source": [
    "# 🧹 Project 1: Data Cleaning with Pandas"
   ]
  },
  {
   "cell_type": "code",
   "execution_count": null,
   "id": "2b19cb7b",
   "metadata": {},
   "outputs": [],
   "source": [
    "\n",
    "import pandas as pd\n",
    "import numpy as np\n",
    "\n",
    "# Create a sample dataset with missing values\n",
    "data = {\n",
    "    'Name': ['Alice', 'Bob', 'Charlie', 'David', 'Eve'],\n",
    "    'Age': [25, np.nan, 30, 22, np.nan],\n",
    "    'Salary': [50000, 60000, np.nan, 52000, 58000]\n",
    "}\n",
    "\n",
    "df = pd.DataFrame(data)\n",
    "print(\"Original DataFrame:\")\n",
    "print(df)\n",
    "\n",
    "# Handle missing values\n",
    "df['Age'].fillna(df['Age'].mean(), inplace=True)\n",
    "df['Salary'].fillna(df['Salary'].mean(), inplace=True)\n",
    "\n",
    "print(\"\\nCleaned DataFrame:\")\n",
    "print(df)\n"
   ]
  },
  {
   "cell_type": "markdown",
   "id": "5cd1f3a7",
   "metadata": {},
   "source": [
    "# 🗄️ Project 2: SQL Analysis with SQLite"
   ]
  },
  {
   "cell_type": "code",
   "execution_count": null,
   "id": "47279e0b",
   "metadata": {},
   "outputs": [],
   "source": [
    "\n",
    "import sqlite3\n",
    "\n",
    "# Connect to in-memory database\n",
    "conn = sqlite3.connect(':memory:')\n",
    "cursor = conn.cursor()\n",
    "\n",
    "# Create table\n",
    "cursor.execute('''CREATE TABLE employees (id INT, name TEXT, dept TEXT, salary INT)''')\n",
    "\n",
    "# Insert data\n",
    "cursor.executemany('INSERT INTO employees VALUES (?,?,?,?)', [\n",
    "    (1, 'Alice', 'HR', 50000),\n",
    "    (2, 'Bob', 'IT', 60000),\n",
    "    (3, 'Charlie', 'Finance', 55000),\n",
    "    (4, 'David', 'IT', 65000),\n",
    "    (5, 'Eve', 'HR', 52000),\n",
    "])\n",
    "\n",
    "# Query\n",
    "print(\"Employees in IT Department:\")\n",
    "for row in cursor.execute(\"SELECT name, salary FROM employees WHERE dept='IT'\"):\n",
    "    print(row)\n",
    "\n",
    "# Aggregation\n",
    "print(\"\\nAverage Salary by Department:\")\n",
    "for row in cursor.execute(\"SELECT dept, AVG(salary) FROM employees GROUP BY dept\"):\n",
    "    print(row)\n",
    "\n",
    "conn.close()\n"
   ]
  },
  {
   "cell_type": "markdown",
   "id": "d12c13ae",
   "metadata": {},
   "source": [
    "# 📊 Project 3: Data Visualization"
   ]
  },
  {
   "cell_type": "code",
   "execution_count": null,
   "id": "425d58cc",
   "metadata": {},
   "outputs": [],
   "source": [
    "\n",
    "import matplotlib.pyplot as plt\n",
    "import seaborn as sns\n",
    "\n",
    "# Sample dataset\n",
    "tips = sns.load_dataset(\"tips\")\n",
    "\n",
    "# Scatter plot\n",
    "plt.figure(figsize=(6,4))\n",
    "sns.scatterplot(x=\"total_bill\", y=\"tip\", data=tips)\n",
    "plt.title(\"Scatterplot of Total Bill vs Tip\")\n",
    "plt.show()\n",
    "\n",
    "# Correlation heatmap\n",
    "plt.figure(figsize=(6,4))\n",
    "sns.heatmap(tips.corr(), annot=True, cmap=\"coolwarm\")\n",
    "plt.title(\"Correlation Heatmap\")\n",
    "plt.show()\n"
   ]
  },
  {
   "cell_type": "markdown",
   "id": "acade397",
   "metadata": {},
   "source": [
    "# 📑 Project 4: Excel to Python Data Analysis"
   ]
  },
  {
   "cell_type": "code",
   "execution_count": null,
   "id": "320fa376",
   "metadata": {},
   "outputs": [],
   "source": [
    "\n",
    "# Simulate reading Excel (we'll just use DataFrame directly here)\n",
    "sales_data = pd.DataFrame({\n",
    "    \"Region\": [\"North\", \"South\", \"East\", \"West\", \"North\", \"South\"],\n",
    "    \"Sales\": [2500, 3000, 2000, 4000, 2800, 3300],\n",
    "    \"Profit\": [400, 500, 300, 700, 450, 600]\n",
    "})\n",
    "\n",
    "print(\"Sales Data:\")\n",
    "print(sales_data)\n",
    "\n",
    "# Group by Region\n",
    "region_summary = sales_data.groupby(\"Region\").agg({\"Sales\":\"sum\", \"Profit\":\"sum\"})\n",
    "print(\"\\nRegion-wise Summary:\")\n",
    "print(region_summary)\n"
   ]
  },
  {
   "cell_type": "markdown",
   "id": "685bde3f",
   "metadata": {},
   "source": [
    "# 🏆 Project 5: Capstone Project (End-to-End Analysis)"
   ]
  },
  {
   "cell_type": "code",
   "execution_count": null,
   "id": "f90e1a0c",
   "metadata": {},
   "outputs": [],
   "source": [
    "\n",
    "# Simulated dataset for capstone\n",
    "capstone_data = pd.DataFrame({\n",
    "    \"CustomerID\": range(1,11),\n",
    "    \"Age\": [23, 35, 45, 29, 33, 41, 50, 28, 39, 31],\n",
    "    \"SpendingScore\": [77, 62, 85, 45, 70, 55, 90, 40, 65, 59],\n",
    "    \"Income\": [40000, 52000, 61000, 45000, 48000, 60000, 75000, 42000, 58000, 50000]\n",
    "})\n",
    "\n",
    "print(\"Capstone Dataset:\")\n",
    "print(capstone_data.head())\n",
    "\n",
    "# Insights: Average spending score by age group\n",
    "capstone_data['AgeGroup'] = pd.cut(capstone_data['Age'], bins=[20,30,40,50,60], labels=['20-30','30-40','40-50','50-60'])\n",
    "avg_spending = capstone_data.groupby(\"AgeGroup\")[\"SpendingScore\"].mean()\n",
    "print(\"\\nAverage Spending Score by Age Group:\")\n",
    "print(avg_spending)\n",
    "\n",
    "# Visualization\n",
    "plt.figure(figsize=(6,4))\n",
    "avg_spending.plot(kind=\"bar\", color=\"skyblue\")\n",
    "plt.title(\"Average Spending Score by Age Group\")\n",
    "plt.ylabel(\"Spending Score\")\n",
    "plt.show()\n"
   ]
  }
 ],
 "metadata": {},
 "nbformat": 4,
 "nbformat_minor": 5
}