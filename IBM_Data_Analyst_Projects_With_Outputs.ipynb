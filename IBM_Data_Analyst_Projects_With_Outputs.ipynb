{
 "cells": [
  {
   "cell_type": "markdown",
   "id": "c23ef077",
   "metadata": {},
   "source": [
    "## Project 1: Data Cleaning\n",
    "Remove missing values and duplicates in a dataset."
   ]
  },
  {
   "cell_type": "code",
   "execution_count": null,
   "id": "869e0e7b",
   "metadata": {},
   "outputs": [],
   "source": [
    "\n",
    "import pandas as pd\n",
    "\n",
    "# Sample dataset with missing values and duplicates\n",
    "data = {\n",
    "    \"Name\": [\"Alice\", \"Bob\", \"Charlie\", \"Alice\", None],\n",
    "    \"Age\": [25, 30, None, 25, 22],\n",
    "    \"City\": [\"Delhi\", \"Mumbai\", \"Bangalore\", \"Delhi\", \"Chennai\"]\n",
    "}\n",
    "df = pd.DataFrame(data)\n",
    "print(\"Original DataFrame:\")\n",
    "display(df)\n",
    "\n",
    "# Drop missing values\n",
    "df_cleaned = df.dropna()\n",
    "# Drop duplicates\n",
    "df_cleaned = df_cleaned.drop_duplicates()\n",
    "\n",
    "print(\"Cleaned DataFrame:\")\n",
    "display(df_cleaned)\n"
   ]
  },
  {
   "cell_type": "markdown",
   "id": "8daef123",
   "metadata": {},
   "source": [
    "## Project 2: Exploratory Data Analysis\n",
    "Basic statistics and visualizations."
   ]
  },
  {
   "cell_type": "code",
   "execution_count": null,
   "id": "8fc4b28f",
   "metadata": {},
   "outputs": [],
   "source": [
    "\n",
    "import matplotlib.pyplot as plt\n",
    "\n",
    "# Sample dataset\n",
    "data = {\"Score\": [85, 90, 78, 92, 88, 76, 95, 89]}\n",
    "df_scores = pd.DataFrame(data)\n",
    "\n",
    "print(\"Summary Statistics:\")\n",
    "print(df_scores.describe())\n",
    "\n",
    "# Plot histogram\n",
    "plt.hist(df_scores[\"Score\"], bins=5, edgecolor=\"black\")\n",
    "plt.title(\"Distribution of Scores\")\n",
    "plt.xlabel(\"Score\")\n",
    "plt.ylabel(\"Frequency\")\n",
    "plt.show()\n"
   ]
  },
  {
   "cell_type": "markdown",
   "id": "3f7adf51",
   "metadata": {},
   "source": [
    "## Project 3: Data Visualization\n",
    "Bar chart of sales by product."
   ]
  },
  {
   "cell_type": "code",
   "execution_count": null,
   "id": "fca9d61a",
   "metadata": {},
   "outputs": [],
   "source": [
    "\n",
    "# Sample sales dataset\n",
    "sales_data = {\"Product\": [\"A\", \"B\", \"C\", \"D\"], \"Sales\": [120, 300, 250, 400]}\n",
    "df_sales = pd.DataFrame(sales_data)\n",
    "\n",
    "print(\"Sales Data:\")\n",
    "display(df_sales)\n",
    "\n",
    "# Plot bar chart\n",
    "df_sales.plot(kind=\"bar\", x=\"Product\", y=\"Sales\", legend=False)\n",
    "plt.title(\"Sales by Product\")\n",
    "plt.xlabel(\"Product\")\n",
    "plt.ylabel(\"Sales\")\n",
    "plt.show()\n"
   ]
  },
  {
   "cell_type": "markdown",
   "id": "7931ec76",
   "metadata": {},
   "source": [
    "## Project 4: Correlation Analysis\n",
    "Find correlation between variables."
   ]
  },
  {
   "cell_type": "code",
   "execution_count": null,
   "id": "bd4cacd9",
   "metadata": {},
   "outputs": [],
   "source": [
    "\n",
    "# Sample dataset\n",
    "data = {\n",
    "    \"Hours_Studied\": [1, 2, 3, 4, 5, 6, 7],\n",
    "    \"Exam_Score\": [50, 55, 65, 70, 75, 80, 90]\n",
    "}\n",
    "df_corr = pd.DataFrame(data)\n",
    "\n",
    "print(\"Dataset:\")\n",
    "display(df_corr)\n",
    "\n",
    "# Correlation matrix\n",
    "print(\"Correlation Matrix:\")\n",
    "print(df_corr.corr())\n"
   ]
  },
  {
   "cell_type": "markdown",
   "id": "03849484",
   "metadata": {},
   "source": [
    "## Project 5: Simple Linear Regression\n",
    "Predict exam scores based on hours studied."
   ]
  },
  {
   "cell_type": "code",
   "execution_count": null,
   "id": "a76e3670",
   "metadata": {},
   "outputs": [],
   "source": [
    "\n",
    "from sklearn.linear_model import LinearRegression\n",
    "import numpy as np\n",
    "\n",
    "# Independent (X) and Dependent (y) variables\n",
    "X = df_corr[[\"Hours_Studied\"]]\n",
    "y = df_corr[\"Exam_Score\"]\n",
    "\n",
    "# Train model\n",
    "model = LinearRegression()\n",
    "model.fit(X, y)\n",
    "\n",
    "# Prediction\n",
    "pred = model.predict(np.array([[8]]))\n",
    "\n",
    "print(f\"Predicted exam score for 8 study hours: {pred[0]:.2f}\")\n"
   ]
  }
 ],
 "metadata": {},
 "nbformat": 4,
 "nbformat_minor": 5
}
